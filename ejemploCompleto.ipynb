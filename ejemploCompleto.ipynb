{
  "nbformat": 4,
  "nbformat_minor": 0,
  "metadata": {
    "colab": {
      "provenance": [],
      "authorship_tag": "ABX9TyODDaJ4w374E5QaTEV93BfC",
      "include_colab_link": true
    },
    "kernelspec": {
      "name": "python3",
      "display_name": "Python 3"
    },
    "language_info": {
      "name": "python"
    }
  },
  "cells": [
    {
      "cell_type": "markdown",
      "metadata": {
        "id": "view-in-github",
        "colab_type": "text"
      },
      "source": [
        "<a href=\"https://colab.research.google.com/github/SaitoInmortal/matrizLU/blob/main/ejemploCompleto.ipynb\" target=\"_parent\"><img src=\"https://colab.research.google.com/assets/colab-badge.svg\" alt=\"Open In Colab\"/></a>"
      ]
    },
    {
      "cell_type": "code",
      "execution_count": 13,
      "metadata": {
        "colab": {
          "base_uri": "https://localhost:8080/"
        },
        "id": "dr6ied86EuVj",
        "outputId": "451cfe26-0489-4a22-de23-f56db4728a2e"
      },
      "outputs": [
        {
          "output_type": "stream",
          "name": "stdout",
          "text": [
            "factorizacion LU\n",
            "ingrese el numero de filaz y columnas para la matriz nxn: 3\n",
            "[[-3. -2.  9.]\n",
            " [-8.  3. -8.]\n",
            " [ 8. -5.  8.]]\n",
            "[[ 1.          0.          0.        ]\n",
            " [ 2.66666667  1.          0.        ]\n",
            " [-2.66666667 -1.24        1.        ]]\n",
            "[[ -3.          -2.           9.        ]\n",
            " [  0.           8.33333333 -32.        ]\n",
            " [  0.           0.          -7.68      ]]\n"
          ]
        }
      ],
      "source": [
        "import numpy as np\n",
        "import random\n",
        "print(\"factorizacion LU\")\n",
        "n = int(input(\"ingrese el numero de filaz y columnas para la matriz nxn: \"))\n",
        "matriz = np.zeros([n,n])\n",
        "l = np.identity(n)\n",
        "u = np.zeros([n,n])\n",
        "for f in range(0,n):\n",
        "  for c in range(0,n):\n",
        "    matriz[f,c]=input(\"Ingrese el elemento (\"+ str(f+1) +\",\"+str(c+1) +\") de la matriz: \")\n",
        "    #matriz[f,c]=random.randint(-10, 10)\n",
        "    matriz[f,c]=float(matriz[f,c])\n",
        "    u[f,c]=matriz[f,c]\n",
        "for i in range(0,n):\n",
        "  for j in range(0,n):\n",
        "    if(i<j):\n",
        "      factor=u[j,i]/u[i,i]\n",
        "      l[j,i]=factor\n",
        "      for k in range(0,n):\n",
        "        u[j,k]=u[j,k]-(factor*u[i,k])\n",
        "print(matriz)\n",
        "print(l)\n",
        "print(u)"
      ]
    }
  ]
}