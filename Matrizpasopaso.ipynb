{
  "nbformat": 4,
  "nbformat_minor": 0,
  "metadata": {
    "colab": {
      "provenance": [],
      "authorship_tag": "ABX9TyMoORsGc+98M4qVy12VgY5p",
      "include_colab_link": true
    },
    "kernelspec": {
      "name": "python3",
      "display_name": "Python 3"
    },
    "language_info": {
      "name": "python"
    }
  },
  "cells": [
    {
      "cell_type": "markdown",
      "metadata": {
        "id": "view-in-github",
        "colab_type": "text"
      },
      "source": [
        "<a href=\"https://colab.research.google.com/github/SaitoInmortal/matrizLU/blob/main/Matrizpasopaso.ipynb\" target=\"_parent\"><img src=\"https://colab.research.google.com/assets/colab-badge.svg\" alt=\"Open In Colab\"/></a>"
      ]
    },
    {
      "cell_type": "code",
      "execution_count": 60,
      "metadata": {
        "colab": {
          "base_uri": "https://localhost:8080/"
        },
        "id": "D6Nfuo2QrPZp",
        "outputId": "82510c78-60d5-483a-aac8-460e4a6bc1ef"
      },
      "outputs": [
        {
          "output_type": "stream",
          "name": "stdout",
          "text": [
            "factorizacion LU\n"
          ]
        }
      ],
      "source": [
        "import numpy as np\n",
        "import random\n",
        "print(\"factorizacion LU\")"
      ]
    },
    {
      "cell_type": "code",
      "source": [
        "n = int(input(\"ingrese el numero de filaz y columnas para la matriz nxn: \"))"
      ],
      "metadata": {
        "colab": {
          "base_uri": "https://localhost:8080/"
        },
        "id": "bNiWxg4jsK8d",
        "outputId": "248f3730-a487-429e-e369-1742a53f2f8c"
      },
      "execution_count": 61,
      "outputs": [
        {
          "name": "stdout",
          "output_type": "stream",
          "text": [
            "ingrese el numero de filaz y columnas para la matriz nxn: 3\n"
          ]
        }
      ]
    },
    {
      "cell_type": "code",
      "source": [
        "matriz = np.zeros([n,n])\n",
        "l = np.identity(n)\n",
        "u = np.zeros([n,n])\n",
        "for f in range(0,n):\n",
        "  for c in range(0,n):\n",
        "    matriz[f,c]=input(\"Ingrese el elemento (\"+ str(f+1) +\",\"+str(c+1) +\") de la matriz: \")\n",
        "    #matriz[f,c]=random.randint(-10, 10)\n",
        "    matriz[f,c]=float(matriz[f,c])\n",
        "    u[f,c]=matriz[f,c]"
      ],
      "metadata": {
        "colab": {
          "base_uri": "https://localhost:8080/"
        },
        "id": "6mz0y5CwsNNC",
        "outputId": "c66ff029-2f64-4077-b2ac-c1447bc932a8"
      },
      "execution_count": 63,
      "outputs": [
        {
          "name": "stdout",
          "output_type": "stream",
          "text": [
            "Ingrese el elemento (1,1) de la matriz: 4\n",
            "Ingrese el elemento (1,2) de la matriz: -2\n",
            "Ingrese el elemento (1,3) de la matriz: 1\n",
            "Ingrese el elemento (2,1) de la matriz: 20\n",
            "Ingrese el elemento (2,2) de la matriz: -7\n",
            "Ingrese el elemento (2,3) de la matriz: 12\n",
            "Ingrese el elemento (3,1) de la matriz: -8\n",
            "Ingrese el elemento (3,2) de la matriz: 13\n",
            "Ingrese el elemento (3,3) de la matriz: 17\n"
          ]
        }
      ]
    },
    {
      "cell_type": "code",
      "source": [
        "for i in range(0,n):\n",
        "  for j in range(0,n):\n",
        "    if(i<j):\n",
        "      factor=(matriz[j,i]/matriz[i,i])\n",
        "      l[j,i]=factor\n",
        "      for k in range(0,n):\n",
        "        u[j,k]=u[j,k]-(factor*u[i,k])"
      ],
      "metadata": {
        "id": "oWJDz__6xix7"
      },
      "execution_count": 64,
      "outputs": []
    },
    {
      "cell_type": "code",
      "source": [
        "print(matriz)"
      ],
      "metadata": {
        "colab": {
          "base_uri": "https://localhost:8080/"
        },
        "id": "fZdy4PFyCR4n",
        "outputId": "eecb4c84-22d4-4367-e893-51ce9e21a232"
      },
      "execution_count": 65,
      "outputs": [
        {
          "output_type": "stream",
          "name": "stdout",
          "text": [
            "[[ 4. -2.  1.]\n",
            " [20. -7. 12.]\n",
            " [-8. 13. 17.]]\n"
          ]
        }
      ]
    },
    {
      "cell_type": "code",
      "source": [
        "print(l)"
      ],
      "metadata": {
        "colab": {
          "base_uri": "https://localhost:8080/"
        },
        "id": "hGOIJtGLCVBA",
        "outputId": "58913fd0-0d8d-40b3-9af3-5333cc785d6b"
      },
      "execution_count": 66,
      "outputs": [
        {
          "output_type": "stream",
          "name": "stdout",
          "text": [
            "[[ 1.          0.          0.        ]\n",
            " [ 5.          1.          0.        ]\n",
            " [-2.         -1.85714286  1.        ]]\n"
          ]
        }
      ]
    },
    {
      "cell_type": "code",
      "source": [
        "print(u)"
      ],
      "metadata": {
        "colab": {
          "base_uri": "https://localhost:8080/"
        },
        "id": "Ce_8vL01CXSx",
        "outputId": "41f4e126-5bd2-4139-d5cd-d1ce94f90c3f"
      },
      "execution_count": 67,
      "outputs": [
        {
          "output_type": "stream",
          "name": "stdout",
          "text": [
            "[[ 4.         -2.          1.        ]\n",
            " [ 0.          3.          7.        ]\n",
            " [ 0.         14.57142857 32.        ]]\n"
          ]
        }
      ]
    }
  ]
}